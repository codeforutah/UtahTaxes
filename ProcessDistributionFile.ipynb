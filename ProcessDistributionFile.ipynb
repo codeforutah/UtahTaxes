{
 "cells": [
  {
   "cell_type": "markdown",
   "metadata": {},
   "source": [
    "This script is meant to process only ONE MONTH'S taxes in Distribution .txt files from the Tax Commission for FISCAL YEAR 2010 ONWARD."
   ]
  },
  {
   "cell_type": "code",
   "execution_count": 1,
   "metadata": {
    "collapsed": true
   },
   "outputs": [],
   "source": [
    "import pandas as pd\n",
    "import numpy as np\n",
    "from datetime import date"
   ]
  },
  {
   "cell_type": "markdown",
   "metadata": {},
   "source": [
    "This cell immediately below is the only one that requires changes to run for a new month."
   ]
  },
  {
   "cell_type": "code",
   "execution_count": 2,
   "metadata": {
    "collapsed": true
   },
   "outputs": [],
   "source": [
    "#Read in Distribution to Finance .txt files from Tax Commission\n",
    "df = pd.read_fwf('../data/2018-07- DISTRIBUTION FILE TO FINANCE.txt', header=None, names=['Date', 'Tax', 'Location', 'Distribution'])\n",
    "    # dtype={'Date': str, 'Tax': str, 'Location':str, 'Distribution': str}"
   ]
  },
  {
   "cell_type": "code",
   "execution_count": 3,
   "metadata": {},
   "outputs": [
    {
     "data": {
      "text/html": [
       "<div>\n",
       "<style>\n",
       "    .dataframe thead tr:only-child th {\n",
       "        text-align: right;\n",
       "    }\n",
       "\n",
       "    .dataframe thead th {\n",
       "        text-align: left;\n",
       "    }\n",
       "\n",
       "    .dataframe tbody tr th {\n",
       "        vertical-align: top;\n",
       "    }\n",
       "</style>\n",
       "<table border=\"1\" class=\"dataframe\">\n",
       "  <thead>\n",
       "    <tr style=\"text-align: right;\">\n",
       "      <th></th>\n",
       "      <th>Date</th>\n",
       "      <th>Tax</th>\n",
       "      <th>Location</th>\n",
       "      <th>Distribution</th>\n",
       "    </tr>\n",
       "  </thead>\n",
       "  <tbody>\n",
       "    <tr>\n",
       "      <th>0</th>\n",
       "      <td>201807SEM</td>\n",
       "      <td>ES</td>\n",
       "      <td>01000Beaver County</td>\n",
       "      <td>656221</td>\n",
       "    </tr>\n",
       "    <tr>\n",
       "      <th>1</th>\n",
       "      <td>201807SEM</td>\n",
       "      <td>ES</td>\n",
       "      <td>03038Logan</td>\n",
       "      <td>5581794</td>\n",
       "    </tr>\n",
       "    <tr>\n",
       "      <th>2</th>\n",
       "      <td>201807SEM</td>\n",
       "      <td>ES</td>\n",
       "      <td>06000Davis County</td>\n",
       "      <td>7881883</td>\n",
       "    </tr>\n",
       "    <tr>\n",
       "      <th>3</th>\n",
       "      <td>201807SEM</td>\n",
       "      <td>ES</td>\n",
       "      <td>06004Bountiful</td>\n",
       "      <td>4393324</td>\n",
       "    </tr>\n",
       "    <tr>\n",
       "      <th>4</th>\n",
       "      <td>201807SEM</td>\n",
       "      <td>ES</td>\n",
       "      <td>06008Clearfield</td>\n",
       "      <td>2603077</td>\n",
       "    </tr>\n",
       "  </tbody>\n",
       "</table>\n",
       "</div>"
      ],
      "text/plain": [
       "        Date Tax            Location  Distribution\n",
       "0  201807SEM  ES  01000Beaver County        656221\n",
       "1  201807SEM  ES          03038Logan       5581794\n",
       "2  201807SEM  ES   06000Davis County       7881883\n",
       "3  201807SEM  ES      06004Bountiful       4393324\n",
       "4  201807SEM  ES     06008Clearfield       2603077"
      ]
     },
     "execution_count": 3,
     "metadata": {},
     "output_type": "execute_result"
    }
   ],
   "source": [
    "df.head()"
   ]
  },
  {
   "cell_type": "code",
   "execution_count": null,
   "metadata": {
    "collapsed": true
   },
   "outputs": [],
   "source": [
    "df.info()"
   ]
  },
  {
   "cell_type": "code",
   "execution_count": null,
   "metadata": {
    "collapsed": true
   },
   "outputs": [],
   "source": [
    "#Only keep and relabel relevant tax categories:\n",
    "    # RR = Resort Communities Tax Gross\n",
    "    # RA = Resort Communities Tax Gross - Addl\n",
    "    \n",
    "    # FG = Tourism Restaurant Tax Gross\n",
    "    \n",
    "    # FF = Tourism Leasing Tax Gross - from Sales Distr.\n",
    "    # FP = Tourism Leasing Tax Gross - from Population\n",
    "\n",
    "    # TR = Transient Room Tax Gross - only Counties\n",
    "    # TM = Municipal Transient Room Tax Gross\n",
    "    # TA = Municipal Transient Room Tax Gross - Addl\n",
    "    # TC = Transient Room Tax Gross - Convention - discontinued\n",
    "    # TT = Tourism Transient Room Tax Gross\n",
    "    \n",
    "    # LS = Local Sales (1% of state sales/use collection returned to localities)\n",
    "    \n",
    "    #Later sum Resort Communities categories, and MTRT categories\n",
    "keep = [\"RR\", \"RA\", \"FG\", \"FF\", \"FP\", \"TR\", \"TM\", \"TA\", \"TC\", \"TT\", \"LS\"]\n",
    "df = df[df.Tax.isin(keep)]\n",
    "df.replace('RR', 'ResortComm', inplace=True)\n",
    "df.replace('RA', 'ResortComm', inplace=True)\n",
    "df.replace('FG', 'Restaurant', inplace=True)\n",
    "df.replace('FF', 'CarRental_Sales', inplace=True)\n",
    "df.replace('FP', 'CarRental_Pop', inplace=True)\n",
    "df.replace('TR', 'TRT', inplace=True)\n",
    "df.replace('TM', 'MTRT', inplace=True)\n",
    "df.replace('TA', 'MTRT', inplace=True)\n",
    "df.replace('TC', 'TRT_Convention', inplace=True)\n",
    "df.replace('TT', 'TRT_Tourism', inplace=True)\n",
    "df.replace('LS', 'Local_Sales', inplace=True)\n",
    "\n",
    "df = df.reset_index(drop = True)\n",
    "\n",
    "df.info()"
   ]
  },
  {
   "cell_type": "code",
   "execution_count": null,
   "metadata": {
    "collapsed": true
   },
   "outputs": [],
   "source": [
    "#Separate Location Code from Location; remove 'SEM' from Date\n",
    "df['LocationCode'] = df['Location'].str[:5].apply(np.int64) \n",
    "df['Location'] = df['Location'].str[5:]\n",
    "df['Date'] = df['Date'].str[:-3]\n",
    "df.info()"
   ]
  },
  {
   "cell_type": "code",
   "execution_count": null,
   "metadata": {
    "collapsed": true
   },
   "outputs": [],
   "source": [
    "print(df)"
   ]
  },
  {
   "cell_type": "code",
   "execution_count": null,
   "metadata": {
    "collapsed": true
   },
   "outputs": [],
   "source": [
    "#Insert decimal points into Distribution amounts; rename column\n",
    "df['Distribution'] = df['Distribution'].astype(str)\n",
    "df.info()\n",
    "df['Distribution'] = df['Distribution'].str[:-2] + \".\" + df['Distribution'].str[-2:]\n",
    "df['Distribution'] = df['Distribution'].astype(np.float64)\n",
    "df.rename(columns = {'Distribution': 'Dollars_Distributed'}, inplace=True)\n",
    "df.head(15)"
   ]
  },
  {
   "cell_type": "code",
   "execution_count": null,
   "metadata": {
    "collapsed": true
   },
   "outputs": [],
   "source": [
    "#Grab a single date from Date \n",
    "year_month = df.iloc[0]['Date']\n",
    "print(type(year_month))\n",
    "print(year_month)"
   ]
  },
  {
   "cell_type": "code",
   "execution_count": null,
   "metadata": {
    "collapsed": true
   },
   "outputs": [],
   "source": [
    "#Extract year and month individually\n",
    "year = int(year_month[:-2])\n",
    "print(type(year))\n",
    "print(year)\n",
    "month = int(year_month[-2:])\n",
    "print(type(month))\n",
    "print(month)"
   ]
  },
  {
   "cell_type": "code",
   "execution_count": null,
   "metadata": {
    "collapsed": true
   },
   "outputs": [],
   "source": [
    "#Convert the Date to Calendar from Fiscal year\n",
    "    #FY 2010 month 1 = July 2009\n",
    "df.rename(columns = {'Date': 'Date_CY'}, inplace=True)\n",
    "\n",
    "if month == 1:\n",
    "    month = 7\n",
    "    year = year - 1\n",
    "elif month == 2:\n",
    "    month = 8\n",
    "    year = year - 1\n",
    "elif month == 3:\n",
    "    month = 9\n",
    "    year = year - 1\n",
    "elif month == 4:\n",
    "    month = 10\n",
    "    year = year - 1\n",
    "elif month == 5:\n",
    "    month = 11\n",
    "    year = year - 1\n",
    "elif month == 6:\n",
    "    month = 12\n",
    "    year = year - 1\n",
    "    \n",
    "elif month == 7:\n",
    "    month = 1\n",
    "elif month == 8:\n",
    "    month = 2\n",
    "elif month == 9:\n",
    "    month = 3\n",
    "elif month == 10:\n",
    "    month = 4\n",
    "elif month == 11:\n",
    "    month = 5\n",
    "elif month == 12:\n",
    "    month = 6"
   ]
  },
  {
   "cell_type": "code",
   "execution_count": null,
   "metadata": {
    "collapsed": true
   },
   "outputs": [],
   "source": [
    "#Reformat the date\n",
    "when = date(year, month, 1)\n",
    "print(when)"
   ]
  },
  {
   "cell_type": "code",
   "execution_count": null,
   "metadata": {
    "collapsed": true
   },
   "outputs": [],
   "source": [
    "#Apply the formatted date object to entire Date column\n",
    "df['Date_CY'] = when"
   ]
  },
  {
   "cell_type": "code",
   "execution_count": null,
   "metadata": {
    "collapsed": true
   },
   "outputs": [],
   "source": [
    "df.head(10)"
   ]
  },
  {
   "cell_type": "code",
   "execution_count": null,
   "metadata": {
    "collapsed": true,
    "scrolled": false
   },
   "outputs": [],
   "source": [
    "#Isolate rows for Resort Comm. Tax\n",
    "resorts_list = df['Tax'] == 'ResortComm'\n",
    "resorts = df[resorts_list]\n",
    "#ind_list = list(resorts.index.values)\n",
    "resorts = resorts.reset_index(drop = True)\n",
    "#print(resorts)"
   ]
  },
  {
   "cell_type": "code",
   "execution_count": null,
   "metadata": {
    "collapsed": true
   },
   "outputs": [],
   "source": [
    "#Sum Resort Communities distr$ for locations containing this tax on >1 rows\n",
    "resort_dict = {} #A dictionary of location codes and summed distr$; no duplicate locations\n",
    "keep_rows = [] #A list of bools for rows containing non-duplicate locations\n",
    "ind = 0\n",
    "for location in resorts['LocationCode']:\n",
    "    if location in resort_dict.keys():\n",
    "        add_this = resorts.iloc[ind]['Dollars_Distributed']\n",
    "        to_this = resort_dict[location]\n",
    "        sum_resort = add_this + to_this\n",
    "        print('For Loc ' + str(location) + ': adding ' + str(add_this) + ' to ' + str(to_this) + ' = ' + str(sum_resort))\n",
    "        resort_dict[location] = sum_resort\n",
    "        keep_rows = keep_rows + [False]\n",
    "    else:\n",
    "        resort_dict[location] = resorts.iloc[ind]['Dollars_Distributed'] #put loc & distr$ in dict\n",
    "        keep_rows = keep_rows + [True] #Keep row (NOT a duplicate location)\n",
    "    ind = ind + 1\n",
    "\n",
    "resorts = resorts[keep_rows]\n",
    "resorts = resorts.reset_index(drop = True)\n",
    "#print(resorts)"
   ]
  },
  {
   "cell_type": "code",
   "execution_count": null,
   "metadata": {
    "collapsed": true
   },
   "outputs": [],
   "source": [
    "#Print dictionary of sums -- looks correct\n",
    "#for keys, values in resort_dict.items():\n",
    "#    print(keys)\n",
    "#    print(values)"
   ]
  },
  {
   "cell_type": "code",
   "execution_count": null,
   "metadata": {
    "collapsed": true
   },
   "outputs": [],
   "source": [
    "#Update distr$ on rows by location code\n",
    "r = 0\n",
    "for location in resorts['LocationCode']:\n",
    "    resorts.set_value(r, 'Dollars_Distributed', resort_dict[location])\n",
    "    r = r + 1\n",
    "#print(resorts)"
   ]
  },
  {
   "cell_type": "code",
   "execution_count": null,
   "metadata": {
    "collapsed": true
   },
   "outputs": [],
   "source": [
    "#Remove original Resort Comm. rows, and append updated ones, and reset index\n",
    "df = df[~np.array(resorts_list)]\n",
    "df = pd.concat([df, resorts], ignore_index = True)\n",
    "df = df.reset_index(drop = True)"
   ]
  },
  {
   "cell_type": "code",
   "execution_count": null,
   "metadata": {
    "collapsed": true
   },
   "outputs": [],
   "source": [
    "df.query('Tax == \"ResortComm\"')"
   ]
  },
  {
   "cell_type": "code",
   "execution_count": null,
   "metadata": {
    "collapsed": true
   },
   "outputs": [],
   "source": [
    "#Repeat same summation process for MTRT\n",
    "#Isolate rows for MTRT\n",
    "mtrt_list = df['Tax'] == 'MTRT'\n",
    "mtrt = df[mtrt_list]\n",
    "mtrt = mtrt.reset_index(drop = True)\n",
    "#print(mtrt)"
   ]
  },
  {
   "cell_type": "code",
   "execution_count": null,
   "metadata": {
    "collapsed": true
   },
   "outputs": [],
   "source": [
    "#Sum MTRT distr$ for locations containing this tax on >1 rows, and drop those duplicate rows\n",
    "mtrt_dict = {} #A dictionary of location codes and summed distr$; no duplicate locations\n",
    "keeprs = [] #A list of bools for rows containing non-duplicate locations\n",
    "ind = 0\n",
    "for location in mtrt['LocationCode']:\n",
    "    if location in mtrt_dict.keys():\n",
    "        add_this = mtrt.iloc[ind]['Dollars_Distributed']\n",
    "        to_this = mtrt_dict[location]\n",
    "        sum_mtrt = add_this + to_this\n",
    "        print('For Loc ' + str(location) + ': adding ' + str(add_this) + ' to ' + str(to_this) + ' = ' + str(sum_mtrt))\n",
    "        mtrt_dict[location] = sum_mtrt\n",
    "        keeprs = keeprs + [False]\n",
    "    else:\n",
    "        mtrt_dict[location] = mtrt.iloc[ind]['Dollars_Distributed'] #put loc & distr$ in dict\n",
    "        keeprs = keeprs + [True] #Keep row (NOT a duplicate location)\n",
    "    ind = ind + 1\n",
    "\n",
    "mtrt = mtrt[keeprs]\n",
    "mtrt = mtrt.reset_index(drop = True)\n",
    "#print(mtrt)"
   ]
  },
  {
   "cell_type": "code",
   "execution_count": null,
   "metadata": {
    "collapsed": true
   },
   "outputs": [],
   "source": [
    "#Update distr$ on rows by location code\n",
    "r = 0\n",
    "for location in mtrt['LocationCode']:\n",
    "    mtrt.set_value(r, 'Dollars_Distributed', mtrt_dict[location])\n",
    "    r = r + 1\n",
    "#print(mtrt)"
   ]
  },
  {
   "cell_type": "code",
   "execution_count": null,
   "metadata": {
    "collapsed": true
   },
   "outputs": [],
   "source": [
    "#Remove original Resort Comm. rows, and append updated ones, and reset index\n",
    "df = df[~np.array(mtrt_list)]\n",
    "df = pd.concat([df, mtrt], ignore_index = True)\n",
    "df = df.reset_index(drop = True)"
   ]
  },
  {
   "cell_type": "code",
   "execution_count": null,
   "metadata": {
    "collapsed": true
   },
   "outputs": [],
   "source": [
    "df.query('Tax == \"MTRT\"')"
   ]
  },
  {
   "cell_type": "code",
   "execution_count": null,
   "metadata": {
    "collapsed": true
   },
   "outputs": [],
   "source": [
    "#Replace dates as indexes \n",
    "df = df.set_index('Date_CY')"
   ]
  },
  {
   "cell_type": "code",
   "execution_count": null,
   "metadata": {
    "collapsed": true
   },
   "outputs": [],
   "source": [
    "#Reorder columns\n",
    "df = df[['Tax', 'LocationCode', 'Location', 'Dollars_Distributed']]"
   ]
  },
  {
   "cell_type": "code",
   "execution_count": null,
   "metadata": {
    "collapsed": true
   },
   "outputs": [],
   "source": [
    "df.head(20)"
   ]
  },
  {
   "cell_type": "code",
   "execution_count": null,
   "metadata": {
    "collapsed": true
   },
   "outputs": [],
   "source": [
    "df.tail(20)"
   ]
  },
  {
   "cell_type": "code",
   "execution_count": null,
   "metadata": {
    "collapsed": true
   },
   "outputs": [],
   "source": [
    "df.query('Tax == \"CarRental_Sales\"')"
   ]
  },
  {
   "cell_type": "code",
   "execution_count": null,
   "metadata": {
    "collapsed": true
   },
   "outputs": [],
   "source": [
    "df.query('Tax == \"CarRental_Pop\"')"
   ]
  },
  {
   "cell_type": "code",
   "execution_count": null,
   "metadata": {
    "collapsed": true
   },
   "outputs": [],
   "source": [
    "df.query('Tax == \"TRT\"')"
   ]
  },
  {
   "cell_type": "code",
   "execution_count": null,
   "metadata": {
    "collapsed": true
   },
   "outputs": [],
   "source": [
    "#Create new dataframe just for local sales taxes to go in separate db table; remove LS from df\n",
    "df[df.Tax == 'Local_Sales']"
   ]
  },
  {
   "cell_type": "code",
   "execution_count": null,
   "metadata": {
    "collapsed": true
   },
   "outputs": [],
   "source": [
    "ls_taxes = df[df.Tax == 'Local_Sales']\n",
    "df = df[df.Tax != 'Local_Sales']\n",
    "df.Tax.describe() #'top' should NOT be 'Local_Sales'; should be 'MTRT' with 7 unique"
   ]
  },
  {
   "cell_type": "code",
   "execution_count": null,
   "metadata": {
    "collapsed": true
   },
   "outputs": [],
   "source": [
    "ls_taxes = ls_taxes.drop('Tax', axis=1)\n",
    "ls_taxes.head()"
   ]
  },
  {
   "cell_type": "code",
   "execution_count": null,
   "metadata": {
    "collapsed": true
   },
   "outputs": [],
   "source": [
    "#Publish from here"
   ]
  },
  {
   "cell_type": "code",
   "execution_count": null,
   "metadata": {
    "collapsed": true
   },
   "outputs": [],
   "source": []
  },
  {
   "cell_type": "code",
   "execution_count": null,
   "metadata": {
    "collapsed": true
   },
   "outputs": [],
   "source": []
  },
  {
   "cell_type": "code",
   "execution_count": null,
   "metadata": {
    "collapsed": true
   },
   "outputs": [],
   "source": []
  },
  {
   "cell_type": "code",
   "execution_count": null,
   "metadata": {
    "collapsed": true
   },
   "outputs": [],
   "source": []
  },
  {
   "cell_type": "code",
   "execution_count": null,
   "metadata": {
    "collapsed": true
   },
   "outputs": [],
   "source": []
  },
  {
   "cell_type": "code",
   "execution_count": null,
   "metadata": {
    "collapsed": true
   },
   "outputs": [],
   "source": []
  }
 ],
 "metadata": {
  "kernelspec": {
   "display_name": "Python 3",
   "language": "python",
   "name": "python3"
  },
  "language_info": {
   "codemirror_mode": {
    "name": "ipython",
    "version": 3
   },
   "file_extension": ".py",
   "mimetype": "text/x-python",
   "name": "python",
   "nbconvert_exporter": "python",
   "pygments_lexer": "ipython3",
   "version": "3.6.1"
  }
 },
 "nbformat": 4,
 "nbformat_minor": 2
}
